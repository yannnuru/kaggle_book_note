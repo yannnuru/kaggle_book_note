{
 "cells": [
  {
   "attachments": {},
   "cell_type": "markdown",
   "metadata": {},
   "source": [
    "# kaggle APIについて\n",
    "- インストールする場合は https://github.com/Kaggle/kaggle-api を参照\n",
    "- apiを使いにはapiトークンを作成する必要がある\n",
    "    - アカウントページのAPI欄からトークン作成が可能\n",
    "![section1_1](../../outputs/imgs/section1_1.png)\n",
    "- 基本的にはコマンドでコンペとかデータセットを落とせるよう"
   ]
  }
 ],
 "metadata": {
  "kernelspec": {
   "display_name": "venv",
   "language": "python",
   "name": "python3"
  },
  "language_info": {
   "codemirror_mode": {
    "name": "ipython",
    "version": 3
   },
   "file_extension": ".py",
   "mimetype": "text/x-python",
   "name": "python",
   "nbconvert_exporter": "python",
   "pygments_lexer": "ipython3",
   "version": "3.9.13"
  },
  "orig_nbformat": 4,
  "vscode": {
   "interpreter": {
    "hash": "bc50321b6762278a07825492c606e05a7d3340952e71be8e4de464ef073f3d77"
   }
  }
 },
 "nbformat": 4,
 "nbformat_minor": 2
}
