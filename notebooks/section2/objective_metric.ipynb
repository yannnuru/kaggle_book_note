{
 "cells": [
  {
   "cell_type": "code",
   "execution_count": 40,
   "metadata": {},
   "outputs": [],
   "source": [
    "import numpy as np"
   ]
  },
  {
   "attachments": {},
   "cell_type": "markdown",
   "metadata": {},
   "source": [
    "最終更新日:20230206\n",
    "\n",
    "# 評価指標と目的関数\n",
    "- 評価指標：モデルの性能を測る指標。真値と予測値から計算できれば制約なない\n",
    "- 目的関数：モデルの学習で最適化される関数。学習が上手く進むためには微分可能である必要がある。\n",
    "\n",
    "## カスタム評価指標とカスタム目的変数\n",
    "- モデル、ライブラリによっては評価指標や目的関数をユーザが定義可能\n",
    "- 「ユーザが定義した」という意味で「カスタム」という言葉を用いる"
   ]
  },
  {
   "attachments": {},
   "cell_type": "markdown",
   "metadata": {},
   "source": [
    "## xgboostにおけるカスタム評価指標とカスタム目的関数の実装"
   ]
  },
  {
   "cell_type": "code",
   "execution_count": 36,
   "metadata": {},
   "outputs": [],
   "source": [
    "import xgboost as xgb\n",
    "from sklearn.metrics import log_loss\n",
    "from sklearn.model_selection import train_test_split\n",
    "import pandas as pd\n",
    "import os\n",
    "\n",
    "data_dir = '../../data/titanic'\n",
    "\n",
    "train_df = pd.read_csv(os.path.join(data_dir, 'train.csv'))\n",
    "test_df = pd.read_csv(os.path.join(data_dir, 'test.csv'))\n",
    "\n",
    "feat_keys = ['Pclass', 'Sex', 'Age', 'SibSp', 'Parch', 'Fare']\n",
    "target_key = ['Survived']\n",
    "\n",
    "train_df['Sex'] = (train_df['Sex']=='male')\n",
    "test_df['Sex'] = (train_df['Sex']=='male')\n",
    "\n",
    "tr_x, va_x, tr_y, va_y = train_test_split(train_df[feat_keys], train_df[target_key])\n"
   ]
  },
  {
   "cell_type": "code",
   "execution_count": 42,
   "metadata": {},
   "outputs": [
    {
     "name": "stdout",
     "output_type": "stream",
     "text": [
      "[23:54:39] WARNING: C:/buildkite-agent/builds/buildkite-windows-cpu-autoscaling-group-i-08de971ced8a8cdc6-1/xgboost/xgboost-ci-windows/src/learner.cc:767: \n",
      "Parameters: { \"silent\" } are not used.\n",
      "\n",
      "[0]\ttrain-rmse:0.37563\ttrain-custom-error:0.18563\teval-rmse:0.41037\teval-custom-error:0.25561\n",
      "[1]\ttrain-rmse:0.59892\ttrain-custom-error:0.14820\teval-rmse:0.62684\teval-custom-error:0.19282\n",
      "[2]\ttrain-rmse:0.82042\ttrain-custom-error:0.13174\teval-rmse:0.85013\teval-custom-error:0.21973\n",
      "[3]\ttrain-rmse:1.03782\ttrain-custom-error:0.12275\teval-rmse:1.06261\teval-custom-error:0.20179\n",
      "[4]\ttrain-rmse:1.22246\ttrain-custom-error:0.12126\teval-rmse:1.24240\teval-custom-error:0.19282\n",
      "[5]\ttrain-rmse:1.38677\ttrain-custom-error:0.11527\teval-rmse:1.40381\teval-custom-error:0.18834\n",
      "[6]\ttrain-rmse:1.53569\ttrain-custom-error:0.11527\teval-rmse:1.54224\teval-custom-error:0.18834\n",
      "[7]\ttrain-rmse:1.67655\ttrain-custom-error:0.11527\teval-rmse:1.67207\teval-custom-error:0.18386\n",
      "[8]\ttrain-rmse:1.80314\ttrain-custom-error:0.11377\teval-rmse:1.78812\teval-custom-error:0.18386\n",
      "[9]\ttrain-rmse:1.90617\ttrain-custom-error:0.10928\teval-rmse:1.89549\teval-custom-error:0.18834\n",
      "[10]\ttrain-rmse:1.98458\ttrain-custom-error:0.10778\teval-rmse:1.97938\teval-custom-error:0.18834\n",
      "[11]\ttrain-rmse:2.05122\ttrain-custom-error:0.10329\teval-rmse:2.04683\teval-custom-error:0.19282\n",
      "[12]\ttrain-rmse:2.08784\ttrain-custom-error:0.10180\teval-rmse:2.08091\teval-custom-error:0.19282\n",
      "[13]\ttrain-rmse:2.11825\ttrain-custom-error:0.10180\teval-rmse:2.10688\teval-custom-error:0.19282\n",
      "[14]\ttrain-rmse:2.16620\ttrain-custom-error:0.09731\teval-rmse:2.15017\teval-custom-error:0.19282\n",
      "[15]\ttrain-rmse:2.20249\ttrain-custom-error:0.09431\teval-rmse:2.18938\teval-custom-error:0.19282\n",
      "[16]\ttrain-rmse:2.26154\ttrain-custom-error:0.08084\teval-rmse:2.23766\teval-custom-error:0.19282\n",
      "[17]\ttrain-rmse:2.29219\ttrain-custom-error:0.08533\teval-rmse:2.25948\teval-custom-error:0.18386\n",
      "[18]\ttrain-rmse:2.33595\ttrain-custom-error:0.08084\teval-rmse:2.30010\teval-custom-error:0.19282\n",
      "[19]\ttrain-rmse:2.35250\ttrain-custom-error:0.07784\teval-rmse:2.31389\teval-custom-error:0.19282\n",
      "[20]\ttrain-rmse:2.37567\ttrain-custom-error:0.07934\teval-rmse:2.33559\teval-custom-error:0.18834\n",
      "[21]\ttrain-rmse:2.39043\ttrain-custom-error:0.08084\teval-rmse:2.34056\teval-custom-error:0.18834\n",
      "[22]\ttrain-rmse:2.40867\ttrain-custom-error:0.08084\teval-rmse:2.35869\teval-custom-error:0.18834\n",
      "[23]\ttrain-rmse:2.42530\ttrain-custom-error:0.07934\teval-rmse:2.37826\teval-custom-error:0.19282\n",
      "[24]\ttrain-rmse:2.45139\ttrain-custom-error:0.07635\teval-rmse:2.41035\teval-custom-error:0.19282\n",
      "[25]\ttrain-rmse:2.48526\ttrain-custom-error:0.07186\teval-rmse:2.43960\teval-custom-error:0.19282\n",
      "[26]\ttrain-rmse:2.49981\ttrain-custom-error:0.07036\teval-rmse:2.45117\teval-custom-error:0.18834\n",
      "[27]\ttrain-rmse:2.54440\ttrain-custom-error:0.07186\teval-rmse:2.50350\teval-custom-error:0.18834\n",
      "[28]\ttrain-rmse:2.55016\ttrain-custom-error:0.07036\teval-rmse:2.50667\teval-custom-error:0.18834\n",
      "[29]\ttrain-rmse:2.57291\ttrain-custom-error:0.07186\teval-rmse:2.53492\teval-custom-error:0.18834\n",
      "[30]\ttrain-rmse:2.58539\ttrain-custom-error:0.07186\teval-rmse:2.54692\teval-custom-error:0.18834\n",
      "[31]\ttrain-rmse:2.59446\ttrain-custom-error:0.07186\teval-rmse:2.55960\teval-custom-error:0.18834\n",
      "[32]\ttrain-rmse:2.58925\ttrain-custom-error:0.07186\teval-rmse:2.55953\teval-custom-error:0.18834\n",
      "[33]\ttrain-rmse:2.63678\ttrain-custom-error:0.06587\teval-rmse:2.60274\teval-custom-error:0.18386\n",
      "[34]\ttrain-rmse:2.64515\ttrain-custom-error:0.06587\teval-rmse:2.61071\teval-custom-error:0.18386\n",
      "[35]\ttrain-rmse:2.67413\ttrain-custom-error:0.06437\teval-rmse:2.64097\teval-custom-error:0.18386\n",
      "[36]\ttrain-rmse:2.70673\ttrain-custom-error:0.06138\teval-rmse:2.66994\teval-custom-error:0.17937\n",
      "[37]\ttrain-rmse:2.71362\ttrain-custom-error:0.06138\teval-rmse:2.68179\teval-custom-error:0.18834\n",
      "[38]\ttrain-rmse:2.73992\ttrain-custom-error:0.06287\teval-rmse:2.70786\teval-custom-error:0.18386\n",
      "[39]\ttrain-rmse:2.75520\ttrain-custom-error:0.05838\teval-rmse:2.72620\teval-custom-error:0.18386\n",
      "[40]\ttrain-rmse:2.78020\ttrain-custom-error:0.05988\teval-rmse:2.75181\teval-custom-error:0.18834\n",
      "[41]\ttrain-rmse:2.80945\ttrain-custom-error:0.05988\teval-rmse:2.77629\teval-custom-error:0.18834\n",
      "[42]\ttrain-rmse:2.82429\ttrain-custom-error:0.05988\teval-rmse:2.78548\teval-custom-error:0.18834\n",
      "[43]\ttrain-rmse:2.84777\ttrain-custom-error:0.05689\teval-rmse:2.80956\teval-custom-error:0.18386\n",
      "[44]\ttrain-rmse:2.85412\ttrain-custom-error:0.05689\teval-rmse:2.81555\teval-custom-error:0.18834\n",
      "[45]\ttrain-rmse:2.89987\ttrain-custom-error:0.05539\teval-rmse:2.85660\teval-custom-error:0.18834\n",
      "[46]\ttrain-rmse:2.90926\ttrain-custom-error:0.05539\teval-rmse:2.86374\teval-custom-error:0.18386\n",
      "[47]\ttrain-rmse:2.96501\ttrain-custom-error:0.05389\teval-rmse:2.91348\teval-custom-error:0.18386\n"
     ]
    },
    {
     "name": "stderr",
     "output_type": "stream",
     "text": [
      "d:\\katsuya\\Documents\\note\\kaggleNote\\venv\\lib\\site-packages\\xgboost\\core.py:617: FutureWarning: Pass `evals` as keyword args.\n",
      "  warnings.warn(msg, FutureWarning)\n"
     ]
    },
    {
     "name": "stdout",
     "output_type": "stream",
     "text": [
      "[48]\ttrain-rmse:2.97130\ttrain-custom-error:0.05239\teval-rmse:2.92256\teval-custom-error:0.18386\n",
      "[49]\ttrain-rmse:2.98678\ttrain-custom-error:0.05239\teval-rmse:2.93754\teval-custom-error:0.17937\n",
      "0.5098499010824544\n"
     ]
    }
   ],
   "source": [
    "ft = ['c', 'c', 'q', 'c', 'c', 'q']\n",
    "dtrain = xgb.DMatrix(tr_x, label=tr_y, feature_types=ft, enable_categorical=True)\n",
    "dvalid = xgb.DMatrix(va_x, label=va_y, feature_types=ft, enable_categorical=True)\n",
    "\n",
    "# カスタム目的関数\n",
    "def logragobj(preds, dtrain):\n",
    "    labels = dtrain.get_label() # 真のラベルを取得\n",
    "    preds = 1.0 / (1.0 + np.exp(-preds)) # シグモイド\n",
    "    grad = preds - labels # 勾配\n",
    "    hess = preds * (1.0 - preds) # 二回微分値\n",
    "    return grad, hess\n",
    "\n",
    "# カスタム評価関数\n",
    "def evalerror(preds, dtrain):\n",
    "    labels = dtrain.get_label()\n",
    "    return 'custom-error', float(sum(labels != (preds > 0.0)) / len(labels))\n",
    "\n",
    "# ハイパーパラメータ\n",
    "params = {'silent': 1, 'random_state': 71}\n",
    "num_round = 50\n",
    "watchlist =[(dtrain, 'train'), (dvalid, 'eval')]\n",
    "\n",
    "# モデルの学習\n",
    "bst = xgb.train(params, dtrain, num_round, watchlist, obj=logragobj, custom_metric=evalerror)\n",
    "\n",
    "# 予測値の変換\n",
    "pred_val = bst.predict(dvalid)\n",
    "pred = 1.0 / (1.0 + np.exp(-pred_val))\n",
    "logloss = log_loss(va_y, pred)\n",
    "print(logloss)"
   ]
  },
  {
   "cell_type": "code",
   "execution_count": 44,
   "metadata": {},
   "outputs": [
    {
     "name": "stdout",
     "output_type": "stream",
     "text": [
      "[23:57:25] WARNING: C:/buildkite-agent/builds/buildkite-windows-cpu-autoscaling-group-i-08de971ced8a8cdc6-1/xgboost/xgboost-ci-windows/src/learner.cc:767: \n",
      "Parameters: { \"silent\" } are not used.\n",
      "\n",
      "[0]\ttrain-logloss:0.55282\teval-logloss:0.57294\n",
      "[1]\ttrain-logloss:0.47349\teval-logloss:0.50681\n",
      "[2]\ttrain-logloss:0.41972\teval-logloss:0.47659\n",
      "[3]\ttrain-logloss:0.38126\teval-logloss:0.46116\n",
      "[4]\ttrain-logloss:0.35750\teval-logloss:0.44980\n",
      "[5]\ttrain-logloss:0.33568\teval-logloss:0.44687\n",
      "[6]\ttrain-logloss:0.31952\teval-logloss:0.45067\n",
      "[7]\ttrain-logloss:0.30796\teval-logloss:0.45088\n",
      "[8]\ttrain-logloss:0.29841\teval-logloss:0.45271\n",
      "[9]\ttrain-logloss:0.28996\teval-logloss:0.45235\n",
      "[10]\ttrain-logloss:0.28355\teval-logloss:0.45307\n",
      "[11]\ttrain-logloss:0.27077\teval-logloss:0.45598\n",
      "[12]\ttrain-logloss:0.26590\teval-logloss:0.45638\n",
      "[13]\ttrain-logloss:0.26210\teval-logloss:0.45542\n",
      "[14]\ttrain-logloss:0.25547\teval-logloss:0.45773\n",
      "[15]\ttrain-logloss:0.25063\teval-logloss:0.46349\n",
      "[16]\ttrain-logloss:0.24825\teval-logloss:0.46771\n",
      "[17]\ttrain-logloss:0.24429\teval-logloss:0.46875\n",
      "[18]\ttrain-logloss:0.24030\teval-logloss:0.46823\n",
      "[19]\ttrain-logloss:0.23528\teval-logloss:0.47272\n",
      "[20]\ttrain-logloss:0.22985\teval-logloss:0.47316\n",
      "[21]\ttrain-logloss:0.22572\teval-logloss:0.47622\n",
      "[22]\ttrain-logloss:0.21986\teval-logloss:0.47799\n",
      "[23]\ttrain-logloss:0.21573\teval-logloss:0.47834\n",
      "[24]\ttrain-logloss:0.21327\teval-logloss:0.47852\n",
      "[25]\ttrain-logloss:0.20840\teval-logloss:0.48184\n",
      "[26]\ttrain-logloss:0.20439\teval-logloss:0.48243\n",
      "[27]\ttrain-logloss:0.20157\teval-logloss:0.48290\n",
      "[28]\ttrain-logloss:0.19829\teval-logloss:0.48729\n",
      "[29]\ttrain-logloss:0.19650\teval-logloss:0.48927\n",
      "[30]\ttrain-logloss:0.19571\teval-logloss:0.49148\n",
      "[31]\ttrain-logloss:0.19299\teval-logloss:0.49110\n",
      "[32]\ttrain-logloss:0.18942\teval-logloss:0.49265\n",
      "[33]\ttrain-logloss:0.18639\teval-logloss:0.49368\n",
      "[34]\ttrain-logloss:0.18536\teval-logloss:0.49498\n",
      "[35]\ttrain-logloss:0.18297\teval-logloss:0.49493\n",
      "[36]\ttrain-logloss:0.18202\teval-logloss:0.49596\n",
      "[37]\ttrain-logloss:0.18137\teval-logloss:0.49805\n",
      "[38]\ttrain-logloss:0.18033\teval-logloss:0.49900\n",
      "[39]\ttrain-logloss:0.17911\teval-logloss:0.49920\n",
      "[40]\ttrain-logloss:0.17720\teval-logloss:0.50223\n",
      "[41]\ttrain-logloss:0.17337\teval-logloss:0.50286\n",
      "[42]\ttrain-logloss:0.17014\teval-logloss:0.50414\n",
      "[43]\ttrain-logloss:0.16838\teval-logloss:0.50556\n",
      "[44]\ttrain-logloss:0.16539\teval-logloss:0.50172\n",
      "[45]\ttrain-logloss:0.16318\teval-logloss:0.50181\n",
      "[46]\ttrain-logloss:0.16184\teval-logloss:0.50391\n",
      "[47]\ttrain-logloss:0.15995\teval-logloss:0.50484\n",
      "[48]\ttrain-logloss:0.15745\teval-logloss:0.50640\n",
      "[49]\ttrain-logloss:0.15546\teval-logloss:0.50475\n",
      "0.5047452036230521\n"
     ]
    },
    {
     "name": "stderr",
     "output_type": "stream",
     "text": [
      "d:\\katsuya\\Documents\\note\\kaggleNote\\venv\\lib\\site-packages\\xgboost\\core.py:617: FutureWarning: Pass `evals` as keyword args.\n",
      "  warnings.warn(msg, FutureWarning)\n"
     ]
    }
   ],
   "source": [
    "# 通常の方法で学習を行う場合\n",
    "params = {'silent':1, 'random_state':71, 'objective':'binary:logistic'}\n",
    "bst = xgb.train(params, dtrain, num_round, watchlist)\n",
    "\n",
    "pred = bst.predict(dvalid)\n",
    "logloss = log_loss(va_y, pred)\n",
    "print(logloss)"
   ]
  },
  {
   "cell_type": "code",
   "execution_count": null,
   "metadata": {},
   "outputs": [],
   "source": []
  }
 ],
 "metadata": {
  "kernelspec": {
   "display_name": "venv",
   "language": "python",
   "name": "python3"
  },
  "language_info": {
   "codemirror_mode": {
    "name": "ipython",
    "version": 3
   },
   "file_extension": ".py",
   "mimetype": "text/x-python",
   "name": "python",
   "nbconvert_exporter": "python",
   "pygments_lexer": "ipython3",
   "version": "3.9.13"
  },
  "orig_nbformat": 4,
  "vscode": {
   "interpreter": {
    "hash": "bc50321b6762278a07825492c606e05a7d3340952e71be8e4de464ef073f3d77"
   }
  }
 },
 "nbformat": 4,
 "nbformat_minor": 2
}
