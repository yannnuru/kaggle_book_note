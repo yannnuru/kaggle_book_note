{
 "cells": [
  {
   "attachments": {},
   "cell_type": "markdown",
   "metadata": {},
   "source": [
    "最終更新日：2023/01/15\n",
    "# 二値分類における評価指標（正例か負例かを予測値とする場合）"
   ]
  },
  {
   "cell_type": "code",
   "execution_count": 50,
   "metadata": {},
   "outputs": [],
   "source": [
    "import numpy as np\n",
    "import pandas as pd\n",
    "import matplotlib.pyplot as plt\n",
    "\n",
    "from sklearn.metrics import (\n",
    "        confusion_matrix, \n",
    "        accuracy_score, \n",
    "        precision_score, \n",
    "        recall_score,\n",
    "        f1_score,\n",
    "        fbeta_score,\n",
    "        matthews_corrcoef,\n",
    "        log_loss,\n",
    "        roc_auc_score)"
   ]
  },
  {
   "attachments": {},
   "cell_type": "markdown",
   "metadata": {},
   "source": [
    "## 混合行列\n",
    "- TP(True Positive): 予測値が正例で、それが正しい場合\n",
    "- TN(True Negative): 予測値が負例で、それが正しい場合\n",
    "- FP(False Positive): 予測値が正例で、それが誤りの場合\n",
    "- FN(False Negative): 予測値が負例で、それが誤りの場合"
   ]
  },
  {
   "cell_type": "code",
   "execution_count": 14,
   "metadata": {},
   "outputs": [
    {
     "name": "stdout",
     "output_type": "stream",
     "text": [
      "confusion_matrix:\n",
      " [[tp, fp],\n",
      " [fn, tn]]\n",
      "confusion_matrix:\n",
      " [[3 1]\n",
      " [2 2]]\n",
      "confusion_matrix(sklearn):\n",
      " [[tn, fp],\n",
      " [fn, tp]]\n",
      "confusion_matrix:\n",
      " [[2 1]\n",
      " [2 3]]\n"
     ]
    }
   ],
   "source": [
    "# {0, 1}で表される二値分類の真値と予測値\n",
    "y_true = np.array([1, 0, 1, 1, 0, 1, 1, 0])\n",
    "y_pred = np.array([0, 0, 1, 1, 0, 0, 1, 1])\n",
    "\n",
    "# confusion_matrixの作成\n",
    "tp = np.sum((y_pred == 1) & (y_true == 1))\n",
    "tn = np.sum((y_pred == 0) & (y_true == 0))\n",
    "fp = np.sum((y_pred == 1) & (y_true == 0))\n",
    "fn = np.sum((y_pred == 0) & (y_true == 1))\n",
    "\n",
    "confusion_matrix_1 = np.array([\n",
    "    [tp, fp],\n",
    "    [fn, tn]\n",
    "    ])\n",
    "\n",
    "print('confusion_matrix:\\n [[tp, fp],\\n [fn, tn]]')\n",
    "print(f'confusion_matrix:\\n {confusion_matrix_1}')\n",
    "\n",
    "# sklearnは並びが異なる({0,1}の順)\n",
    "confusion_matrix_2 = confusion_matrix(y_true, y_pred)\n",
    "print('confusion_matrix(sklearn):\\n [[tn, fp],\\n [fn, tp]]')\n",
    "print(f'confusion_matrix:\\n {confusion_matrix_2}')"
   ]
  },
  {
   "attachments": {},
   "cell_type": "markdown",
   "metadata": {},
   "source": [
    "### accuracy\n",
    "$$\n",
    "    \\textrm{accuracy} = \\frac{TP + TN}{TP + TN + FP + FN}\n",
    "$$\n",
    "### error rate\n",
    "$$\n",
    "    \\textrm{error rate} = 1 - \\text{accuracy}\n",
    "$$"
   ]
  },
  {
   "cell_type": "code",
   "execution_count": 18,
   "metadata": {},
   "outputs": [
    {
     "name": "stdout",
     "output_type": "stream",
     "text": [
      "calcu result: 0.625, scikit result: 0.625\n"
     ]
    }
   ],
   "source": [
    "accuracy_1 = (tp + tn)/(tp + tn + fp + fn)\n",
    "\n",
    "# scikit-learnのモジュールで計算\n",
    "accuracy = accuracy_score(y_true, y_pred)\n",
    "print(f'calcu result: {accuracy_1:.3f}, scikit result: {accuracy:.3f}')"
   ]
  },
  {
   "attachments": {},
   "cell_type": "markdown",
   "metadata": {},
   "source": [
    "### precision\n",
    "- 予測が正例のうち、正しく予測した割合\n",
    "- 誤検知を少なくしたい場合に重視する\n",
    "$$\n",
    "    \\textrm{precision} = \\frac{TP}{TP + FP}\n",
    "$$\n",
    "\n",
    "### recall\n",
    "- 真値が正例のうち、正しく正例を予測した割合\n",
    "- 正例の見逃しを避けたい場合に使用\n",
    "$$\n",
    "    \\textrm{recall} = \\frac{TP}{TP + FN}\n",
    "$$"
   ]
  },
  {
   "cell_type": "code",
   "execution_count": 20,
   "metadata": {},
   "outputs": [
    {
     "name": "stdout",
     "output_type": "stream",
     "text": [
      "calcu precision: 0.750, scikit result: 0.750\n",
      "calcu recall: 0.600, scikit result: 0.600\n"
     ]
    }
   ],
   "source": [
    "precision_1 = tp / (tp + fp)\n",
    "precision = precision_score(y_true, y_pred)\n",
    "\n",
    "recall_1 = tp / (tp + fn)\n",
    "recall = recall_score(y_true, y_pred)\n",
    "\n",
    "print(f'calcu precision: {precision_1:.3f}, scikit result: {precision:.3f}')\n",
    "print(f'calcu recall: {recall_1:.3f}, scikit result: {recall:.3f}')"
   ]
  },
  {
   "attachments": {},
   "cell_type": "markdown",
   "metadata": {},
   "source": [
    "### F1-score\n",
    "- precisionとrecallの調和平均\n",
    "- precisionとrecallのバランスをとった指標\n",
    "$$\n",
    "    \\textrm{F}_1 = \\frac{2}{\\frac{1}{\\textrm{recall}} + \\frac{1}{\\textrm{precision}}}\n",
    "$$\n",
    "\n",
    "### $\\textrm{F}_{\\beta}$-score\n",
    "- $F_1$-scoreのrecallに重み$\\beta$を加えた指標\n",
    "$$\n",
    "    \\textrm{F}_{\\beta} = \\frac{(1 + \\beta)^2}{\\frac{\\beta^2}{\\textrm{recall}} + \\frac{1}{\\textrm{precision}}}\n",
    "$$"
   ]
  },
  {
   "cell_type": "code",
   "execution_count": 23,
   "metadata": {},
   "outputs": [
    {
     "name": "stdout",
     "output_type": "stream",
     "text": [
      "calc f1: 0.667, scikit f1: 0.667\n",
      "calc f1: 0.714, scikit f1: 0.714\n"
     ]
    }
   ],
   "source": [
    "f1_1 = 2 / (1/recall_1 + 1/precision_1)\n",
    "f1 = f1_score(y_true, y_pred)\n",
    "\n",
    "beta = 0.5\n",
    "fbeta_1 = (1 + beta**2) / (beta**2/recall_1 + 1/precision)\n",
    "fbeta = fbeta_score(y_true, y_pred, beta=beta)\n",
    "\n",
    "print(f'calc f1: {f1_1:.3f}, scikit f1: {f1:.3f}')\n",
    "print(f'calc f1: {fbeta_1:.3f}, scikit f1: {fbeta:.3f}')"
   ]
  },
  {
   "attachments": {},
   "cell_type": "markdown",
   "metadata": {},
   "source": [
    "### MCC\n",
    "- 不均衡なデータに対しても適切に評価しやすい指標\n",
    "$$\n",
    "    \\textrm{MCC} = \\frac{TP \\times TN - FP \\times FN}{\\sqrt{(TP + FP)(TP + FN)(TN + FP)(TN + FN)}}\n",
    "$$"
   ]
  },
  {
   "cell_type": "code",
   "execution_count": 27,
   "metadata": {},
   "outputs": [
    {
     "name": "stdout",
     "output_type": "stream",
     "text": [
      "calcu mcc: 0.258, scikit mcc: 0.258\n"
     ]
    }
   ],
   "source": [
    "mcc_1 = (tp * tn - fp * fn)/np.sqrt( (tp + fp) * (tp + fn) * (tn + fp) * (tn + fn) )\n",
    "mcc = matthews_corrcoef(y_true, y_pred)\n",
    "\n",
    "print(f'calcu mcc: {mcc_1:.3f}, scikit mcc: {mcc:.3f}')"
   ]
  },
  {
   "attachments": {},
   "cell_type": "markdown",
   "metadata": {},
   "source": [
    "# 二値分類における評価指標（正例である確率を予測値とする場合）"
   ]
  },
  {
   "attachments": {},
   "cell_type": "markdown",
   "metadata": {},
   "source": [
    "### logloss\n",
    "- 分類タスクで体表的な指標\n",
    "- cross entropyとも呼ばれる\n",
    "$$\n",
    "    \\textrm{logloss} = -\\frac{1}{N} \\sum_{i=1}^N (y_i \\log p_i + (1 - y_i) \\log (1 - p_i))\n",
    "$$"
   ]
  },
  {
   "cell_type": "code",
   "execution_count": 57,
   "metadata": {},
   "outputs": [
    {
     "name": "stdout",
     "output_type": "stream",
     "text": [
      "calcu logloss: 0.714, scikit logloss: 0.714\n"
     ]
    }
   ],
   "source": [
    "# {0, 1}の二値分類の真値と予測確率(1である確率)\n",
    "y_true = np.array([1, 0, 1, 1, 0, 1])\n",
    "y_pred = np.array([0.1, 0.2, 0.8, 0.8, 0.1, 0.3])\n",
    "\n",
    "logloss_1 = -np.mean(y_true * np.log(y_pred) + (1 - y_true) * np.log(1 - y_pred))\n",
    "logloss = log_loss(y_true, y_pred)\n",
    "\n",
    "print(f'calcu logloss: {logloss_1:.3f}, scikit logloss: {logloss:.3f}')"
   ]
  },
  {
   "attachments": {},
   "cell_type": "markdown",
   "metadata": {},
   "source": [
    "### AUC\n",
    "- ROC曲線の下部の面積\n",
    "    - ROC曲線：予測値を正例とする閾値を1から0に変化させたときの偽陽性率と真陽性率のプロット"
   ]
  },
  {
   "cell_type": "code",
   "execution_count": 78,
   "metadata": {},
   "outputs": [
    {
     "data": {
      "image/png": "[encoded data removed]",
      "text/plain": [
       "<Figure size 640x480 with 1 Axes>"
      ]
     },
     "metadata": {},
     "output_type": "display_data"
    }
   ],
   "source": [
    "# ROC Curve\n",
    "# ランダムだとほぼ対角線\n",
    "thres_list = np.linspace(0.0, 1.0, 1000)[::-1]\n",
    "\n",
    "y_true = np.random.choice([0, 1], 1000)\n",
    "y_pred = np.random.uniform(0.0, 1.0, 1000)\n",
    "\n",
    "fp_rates = []\n",
    "tp_rates = []\n",
    "for thres in thres_list:\n",
    "    cfmat = confusion_matrix(y_true, y_pred < thres)\n",
    "    tn = cfmat[0,0]\n",
    "    fp = cfmat[0,1]\n",
    "    fn = cfmat[1,0]\n",
    "    tp = cfmat[1,1]\n",
    "    fp_rate = fp/(fp + tn)\n",
    "    tp_rate = tp/(tp + fn)\n",
    "\n",
    "    fp_rates.append(fp_rate)\n",
    "    tp_rates.append(tp_rate)\n",
    "\n",
    "auc = roc_auc_score(y_true, y_pred)\n",
    "plt.scatter(fp_rates, tp_rates, s=1)\n",
    "plt.title(f'acu score: {auc:.3f}')\n",
    "plt.show()"
   ]
  }
 ],
 "metadata": {
  "kernelspec": {
   "display_name": "venv",
   "language": "python",
   "name": "python3"
  },
  "language_info": {
   "codemirror_mode": {
    "name": "ipython",
    "version": 3
   },
   "file_extension": ".py",
   "mimetype": "text/x-python",
   "name": "python",
   "nbconvert_exporter": "python",
   "pygments_lexer": "ipython3",
   "version": "3.9.13 (tags/v3.9.13:6de2ca5, May 17 2022, 16:36:42) [MSC v.1929 64 bit (AMD64)]"
  },
  "orig_nbformat": 4,
  "vscode": {
   "interpreter": {
    "hash": "bc50321b6762278a07825492c606e05a7d3340952e71be8e4de464ef073f3d77"
   }
  }
 },
 "nbformat": 4,
 "nbformat_minor": 2
}
