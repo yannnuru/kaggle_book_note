{
 "cells": [
  {
   "attachments": {},
   "cell_type": "markdown",
   "metadata": {},
   "source": [
    "最終更新日：2023/1/31\n",
    "# 多クラス分類における評価指標"
   ]
  },
  {
   "cell_type": "code",
   "execution_count": 2,
   "metadata": {},
   "outputs": [],
   "source": [
    "import numpy as np\n",
    "import pandas as pd\n",
    "import matplotlib.pyplot as plt\n",
    "from sklearn.metrics import (\n",
    "    log_loss,\n",
    "    f1_score,\n",
    "    confusion_matrix,\n",
    "    cohen_kappa_score\n",
    ")"
   ]
  },
  {
   "attachments": {},
   "cell_type": "markdown",
   "metadata": {},
   "source": [
    "## multi-class accuracy\n",
    "二値分類のaccuracyを多クラスへ拡張したもの  \n",
    "scikit-learnのmetricモジュールのaccuracy_scoreで計算可能\n",
    "\n",
    "## malti-class logloss\n",
    "loglossをマルチクラスに拡張したもの\n",
    "$$\n",
    "    \\textrm{multiclass logloss} = -\\frac{1}{N} \\sum_{i=1}^N \\sum_{m=1}^M y_{i,m} \\log p_{i,m}\n",
    "$$\n",
    "- $M$: クラス数\n",
    "- $y_{i,m}$: コレード$i$がクラス$m$に属する場合は$1$、それ以外は$0$\n",
    "- $p_{i,m}$: レコード$i$がクラス$m$に属する予測確率（スコア）  \n",
    "scikit-learnのmetricのlog_lossで計算可能"
   ]
  },
  {
   "cell_type": "code",
   "execution_count": 3,
   "metadata": {},
   "outputs": [
    {
     "name": "stdout",
     "output_type": "stream",
     "text": [
      "0.3625557672904264\n"
     ]
    }
   ],
   "source": [
    "# ３クラスの場合\n",
    "y_true = np.array([0, 2, 1, 2, 2])\n",
    "y_pred = np.array(      # 予測スコアはレコード数xクラス数の行列\n",
    "    [\n",
    "    [0.68, 0.32, 0.00],\n",
    "    [0.00, 0.00, 1.00],\n",
    "    [0.60, 0.40, 0.00],\n",
    "    [0.00, 0.00, 1.00],\n",
    "    [0.28, 0.12, 0.60]\n",
    "    ]\n",
    ")\n",
    "\n",
    "logloss = log_loss(y_true, y_pred)\n",
    "print(logloss)"
   ]
  },
  {
   "attachments": {},
   "cell_type": "markdown",
   "metadata": {},
   "source": [
    "# mean-F1, macro-F1, micro-F1\n",
    "F1-scoreを多クラス分類に拡張したもの  \n",
    "マルチラベル分類では各レコードが複数のクラスに属するので、真値と予測値が複数になりうる。"
   ]
  },
  {
   "cell_type": "code",
   "execution_count": 10,
   "metadata": {},
   "outputs": [
    {
     "name": "stdout",
     "output_type": "stream",
     "text": [
      "mean_f1: 0.5933, macro_f1: 0.5524, micro_f1: 0.6250\n",
      "mean_f1: 0.5933, macro_f1: 0.5524, micro_f1: 0.6250\n"
     ]
    }
   ],
   "source": [
    "# マルチラベル分類\n",
    "# マルチクラス分類では1-hotだが、マルチラベルでは各レコードに複数の1が入りうる\n",
    "# 真値\n",
    "y_true = np.array(\n",
    "    [\n",
    "    [1, 1, 0],\n",
    "    [1, 0, 0],\n",
    "    [1, 1, 1],\n",
    "    [0, 1, 1],\n",
    "    [0, 0, 1]\n",
    "    ]\n",
    ")\n",
    "# 予測値\n",
    "y_pred = np.array(\n",
    "    [\n",
    "    [1, 0, 1],\n",
    "    [0, 1, 0],\n",
    "    [1, 0, 1],\n",
    "    [0, 0, 1],\n",
    "    [0, 0, 1]\n",
    "    ]\n",
    ") \n",
    "\n",
    "# mean-f1は、レコードごとにF1-scoreを計算して平均をとる\n",
    "mean_f1 = np.mean([f1_score(y_true[i, :], y_pred[i, :]) for i in range(len(y_true))])\n",
    "\n",
    "# macro_f1では、クラスごとにF1-scoreを計算して平均をとる\n",
    "n_class = 3\n",
    "macro_f1 = np.mean([f1_score(y_true[:,c], y_pred[:, c]) for c in range(n_class)])\n",
    "\n",
    "# micro-f1ではレコードxクラスのペア事にTP/TN/FP/FNを計算しF1-scoreを求める\n",
    "micro_f1 = f1_score(y_true.reshape(-1), y_pred.reshape(-1))\n",
    "\n",
    "print(f'mean_f1: {mean_f1:.4f}, macro_f1: {macro_f1:.4f}, micro_f1: {micro_f1:.4f}')\n",
    "\n",
    "\n",
    "# sckit-leanのメソッドも使える\n",
    "mean_f1 = f1_score(y_true, y_pred, average='samples')\n",
    "macro_f1 = f1_score(y_true, y_pred, average='macro')\n",
    "micro_f1 = f1_score(y_true, y_pred, average='micro')\n",
    "\n",
    "print(f'mean_f1: {mean_f1:.4f}, macro_f1: {macro_f1:.4f}, micro_f1: {micro_f1:.4f}')"
   ]
  },
  {
   "attachments": {},
   "cell_type": "markdown",
   "metadata": {},
   "source": [
    "## quadratic weighted kappa\n",
    "- クラス間に順序関連がある場合で使用\n",
    "$$\n",
    "    \\kappa = 1 - \\frac{\\sum_{i,j}w_{i,j}O_{i,j}}{\\sum_{i,j}w_{i,j}E_{i,j}}\n",
    "$$\n",
    "- $O_{i,j}$: 真のクラスが$i$、予測クラスが$j$のレコード数\n",
    "- $E_{i,j}$: 真の値のクラスと予測値のクラスの分布が互いに独立であるとした場合に、混合行列の各セル$(i,j)$に属するレコード数\n",
    "    - 真の値が$i$である割合$\\times$予測値が$j$である割合$\\times$データ全体のレコード数\n",
    "- $w_{i,j}$: 真の値と予測値の佐野二乗。$(i-j)^2$\n",
    "- 完全の予測で$1$、ランダムな予測で$0$、ランダムより悪い予測で負"
   ]
  },
  {
   "cell_type": "code",
   "execution_count": 6,
   "metadata": {},
   "outputs": [
    {
     "name": "stdout",
     "output_type": "stream",
     "text": [
      "kappa: 0.6154\n",
      "kappa: 0.6154\n"
     ]
    }
   ],
   "source": [
    "def quadratic_weighted_kappa(c_matrix):\n",
    "    numer = 0.\n",
    "    denom = 0.\n",
    "\n",
    "    for i in range(c_matrix.shape[0]):\n",
    "        for j in range(c_matrix.shape[1]):\n",
    "            n = c_matrix.shape[0]\n",
    "            wij = ((i - j) ** 2.0)\n",
    "            oij = c_matrix[i, j]\n",
    "            eij = c_matrix[i,:].sum() * c_matrix[:,j].sum() / c_matrix.sum()\n",
    "            numer += wij * oij\n",
    "            denom += wij * eij\n",
    "\n",
    "    return 1.0 - numer / denom\n",
    "\n",
    "y_true = [1, 2, 3, 4, 3]\n",
    "y_pred = [2, 2, 4, 4, 5]\n",
    "\n",
    "c_matrix = confusion_matrix(y_true=y_true, y_pred=y_pred, labels=[1, 2, 3, 4, 5])\n",
    "\n",
    "kappa = quadratic_weighted_kappa(c_matrix)\n",
    "print(f'kappa: {kappa:.4f}')\n",
    "\n",
    "# scikit-learn\n",
    "kappa = cohen_kappa_score(y_true, y_pred, weights='quadratic')\n",
    "print(f'kappa: {kappa:.4f}')"
   ]
  },
  {
   "attachments": {},
   "cell_type": "markdown",
   "metadata": {},
   "source": [
    "## MAP@K\n",
    "- レコメンデーションのタスクでよく使われる指標\n",
    "- 各レコードが１つまたは複数のクラスに属しているときに、属している可能性が高いと予測する順に$K$個のクラスを予測する\n",
    "$$\n",
    "    \\textrm{MAP@K} = \\frac{1}{N} \\sum_{i=1}^N \\left( \\frac{1}{min(m_i, K)} \\sum_{k=1}^K P_i(k) \\right)\n",
    "$$\n",
    "- $m_i$: レコード$i$の属しているクラス数\n",
    "- $P_i(k)$: レコード$i$について、$k (1 \\leq k \\leq K)$までの予測値で計算されるprecision\n",
    "- 正解の予測値が後ろになるとスコアが下がる"
   ]
  },
  {
   "cell_type": "code",
   "execution_count": 10,
   "metadata": {},
   "outputs": [
    {
     "name": "stdout",
     "output_type": "stream",
     "text": [
      "MAP@k: 0.6500\n",
      "AP@k: 1.0000\n",
      "AP@k: 0.5833\n"
     ]
    }
   ],
   "source": [
    "# K=3, レコード数は5, クラス数は4\n",
    "K = 3\n",
    "\n",
    "# 各レコードの真の値\n",
    "y_true = [[1, 2], [1, 2], [4], [1, 2, 3, 4], [3, 4]]\n",
    "y_pred = [[1, 2, 4], [4, 1, 2], [1, 4, 3], [1, 2, 3], [1, 2, 4]]\n",
    "\n",
    "def apk(y_i_true, y_i_pred):\n",
    "    assert (len(y_i_pred) <= K)\n",
    "    assert (len(np.unique(y_i_pred)) == len(y_i_pred))\n",
    "\n",
    "    sum_precision = 0.0\n",
    "    num_hits = 0.0\n",
    "\n",
    "    for i, p in enumerate(y_i_pred):\n",
    "        if p in y_i_true:\n",
    "            num_hits += 1\n",
    "            precision = num_hits / (i + 1)\n",
    "            sum_precision += precision\n",
    "    return sum_precision / min(len(y_i_true), K)\n",
    "\n",
    "def mapk(y_true, y_pred):\n",
    "    return np.mean([apk(y_i_true, y_i_pred) for y_i_true, y_i_pred in zip(y_true, y_pred)])\n",
    "\n",
    "print(f'MAP@k: {mapk(y_true, y_pred):.4f}')\n",
    "\n",
    "# 正解の数が同じでも順位が異なると違う値になる\n",
    "print(f'AP@k: {apk(y_true[0], y_pred[0]):.4f}')\n",
    "print(f'AP@k: {apk(y_true[1], y_pred[1]):.4f}')"
   ]
  },
  {
   "cell_type": "code",
   "execution_count": null,
   "metadata": {},
   "outputs": [],
   "source": []
  }
 ],
 "metadata": {
  "kernelspec": {
   "display_name": "venv",
   "language": "python",
   "name": "python3"
  },
  "language_info": {
   "codemirror_mode": {
    "name": "ipython",
    "version": 3
   },
   "file_extension": ".py",
   "mimetype": "text/x-python",
   "name": "python",
   "nbconvert_exporter": "python",
   "pygments_lexer": "ipython3",
   "version": "3.9.13 (tags/v3.9.13:6de2ca5, May 17 2022, 16:36:42) [MSC v.1929 64 bit (AMD64)]"
  },
  "orig_nbformat": 4,
  "vscode": {
   "interpreter": {
    "hash": "bc50321b6762278a07825492c606e05a7d3340952e71be8e4de464ef073f3d77"
   }
  }
 },
 "nbformat": 4,
 "nbformat_minor": 2
}
